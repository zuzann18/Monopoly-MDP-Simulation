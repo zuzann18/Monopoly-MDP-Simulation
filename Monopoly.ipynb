{
  "cells": [
    {
      "attachments": {},
      "cell_type": "markdown",
      "source": [
        "Zuzanna Waluś 117406 \n",
        "\n",
        "Monopoly\n",
        "\n",
        "Markov Decision Process"
      ],
      "metadata": {}
    },
    {
      "cell_type": "code",
      "source": [
        "using Optim\n",
        "using DataFrames\n",
        "using Random"
      ],
      "outputs": [],
      "execution_count": 14,
      "metadata": {}
    },
    {
      "attachments": {},
      "cell_type": "markdown",
      "source": [
        "define Monopoly game environment:"
      ],
      "metadata": {}
    },
    {
      "cell_type": "code",
      "source": [
        "\n",
        "Spaces = [\n",
        "    (\"Go\", 0.0, Inf),\n",
        "    (\"Mediterranean Avenue\", 2.0, 60.0),\n",
        "    (\"Community Chest\", 0.0, Inf),\n",
        "    (\"Baltic Avenue\", 4.0, 60.0),\n",
        "    (\"Income Tax\", 0.0, Inf),\n",
        "    (\"Reading Railroad\", 25.0, 200.0),\n",
        "    (\"Oriental Avenue\", 6.0, 100.0),\n",
        "    (\"Chance\", 0.0, Inf),\n",
        "    (\"Vermont Avenue\", 6.0, 100.0),\n",
        "    (\"Connecticut Avenue\", 8.0, 120.0),\n",
        "    (\"Jail\", 0.0, Inf),\n",
        "    (\"St. Charles Place\", 10.0, 140.0),\n",
        "    (\"Electric Company\", 4.0 * 6.0, 150.0),\n",
        "    (\"States Avenue\", 10.0, 140.0),\n",
        "    (\"Virginia Avenue\", 12.0, 160.0),\n",
        "    (\"Pennsylvania Railroad\", 25.0, 200.0),\n",
        "    (\"St. James Place\", 14.0, 180.0),\n",
        "    (\"Community Chest\", 0.0, Inf),\n",
        "    (\"Tennessee Avenue\", 14.0, 180.0),\n",
        "    (\"New York Avenue\", 16.0, 200.0),\n",
        "    (\"Free Parking\", 0.0, Inf),\n",
        "    (\"Kentucky Avenue\", 18.0, 220.0),\n",
        "    (\"Chance\", 0.0, Inf),\n",
        "    (\"Indiana Avenue\", 18.0, 220.0),\n",
        "    (\"Illinois Avenue\", 20.0, 240.0),\n",
        "    (\"B & O Railroad\", 25.0, 200.0),\n",
        "    (\"Atlantic Avenue\", 22.0, 260.0),\n",
        "    (\"Ventnor Avenue\", 22.0, 260.0),\n",
        "    (\"Water Works\", 4.0 * 6.0, 150.0),\n",
        "    (\"Marvin Gardens\", 24.0, 280.0),\n",
        "    (\"Go To Jail\", 0.0, Inf),\n",
        "    (\"Pacific Avenue\", 26.0, 300.0),\n",
        "    (\"North Carolina Avenue\", 26.0, 300.0),\n",
        "    (\"Community Chest\", 0.0, Inf),\n",
        "    (\"Pennsylvania Avenue\", 28.0, 320.0),\n",
        "    (\"Short Line\", 25.0, 200.0),\n",
        "    (\"Chance\", 0.0, Inf),\n",
        "    (\"Park Place\", 35.0, 350.0),\n",
        "    (\"Luxury Tax\", 0.0, Inf),\n",
        "    (\"Boardwalk\", 50.0, 400.0)];\n"
      ],
      "outputs": [],
      "execution_count": 15,
      "metadata": {}
    },
    {
      "attachments": {},
      "cell_type": "markdown",
      "source": [
        "Monopoly as a Markov Chain\n",
        "\n",
        "the Monopoly game defined as a simple Markov chain. Our goal is to find the stationary distribution of this process:"
      ],
      "metadata": {}
    },
    {
      "cell_type": "code",
      "source": [
        "\n",
        "function transition_matrix(n=40)\n",
        "    #basic transition matrix\n",
        "    T = zeros(Float64,n,n)\n",
        "    for i = 1:n\n",
        "        for j = 2:12\n",
        "            T[i, mod(i + j - 1,n)+1] = mod(min(j -1,13-j),7)/ 36\n",
        "        end\n",
        "    end\n",
        "    #special matrix\n",
        "    S = zeros(Float64,n,n)\n",
        "    for i = 1:n\n",
        "        if !in(i,(3,18,31,34))\n",
        "            S[i,i] = 1.0\n",
        "        elseif i == 31\n",
        "            S[i,11] = 1.0\n",
        "        else #community chest\n",
        "            #advance to go\n",
        "            S[i,1] = 1.0 / 16.0;\n",
        "            #go to jail\n",
        "            S[i,11] = 1.0 / 16.0;\n",
        "            #stay put\n",
        "            S[i,i] = 14.0 / 16.0;\n",
        "        end\n",
        "    end\n",
        "    T * S\n",
        "end\n",
        "\n",
        "function solve(k,n=40)\n",
        "    T = transition_matrix(n)\n",
        "    s = hcat(1.0,zeros(Float64,1,n-1))\n",
        "    s * T^k\n",
        "end\n",
        "     "
      ],
      "outputs": [
        {
          "output_type": "display_data",
          "data": {
            "text/plain": "solve (generic function with 2 methods)"
          },
          "metadata": {}
        }
      ],
      "execution_count": 16,
      "metadata": {}
    },
    {
      "cell_type": "code",
      "source": [
        "#first as a simple Markov chain:\n",
        "solve(100000,40)'\n"
      ],
      "outputs": [
        {
          "output_type": "display_data",
          "data": {
            "text/plain": "40×1 adjoint(::Matrix{Float64}) with eltype Float64:\n 0.02718519653634749\n 0.022595593909926576\n 0.020088902487865122\n 0.02337710167023832\n 0.023084775209526613\n 0.02297863014830041\n 0.02301209610078735\n 0.023063894117358544\n 0.022929801058082913\n 0.02284183819086106\n ⋮\n 0.02688541220906093\n 0.026137642782802298\n 0.022233994190789353\n 0.024666218241423055\n 0.023787980616430136\n 0.02283673499352182\n 0.021779991748910883\n 0.02209821074932742\n 0.022276335016028846"
          },
          "metadata": {}
        }
      ],
      "execution_count": 17,
      "metadata": {}
    },
    {
      "attachments": {},
      "cell_type": "markdown",
      "source": [
        "Monopoly as a Markov Chain with Rewards\n",
        "\n",
        "let us add some rewards to the problem. With this simple modification, we will be able to compute the return on investment for every field in the game and discuss which one is the most profitable for a player:"
      ],
      "metadata": {}
    },
    {
      "cell_type": "code",
      "source": [
        "\n",
        "#add some rewards:\n",
        "function summary(k = 100000, n=40)\n",
        "    probs = solve(k,n)\n",
        "    df = DataFrame(Space = String[], Prob = Float64[], Rent = Float64[], ROI = Float64[])\n",
        "    for (i,prob) in enumerate(probs)\n",
        "        rent = prob * Spaces[i][2]\n",
        "        roi = rent /Spaces[i][3] \n",
        "        push!(df,(Spaces[i][1], prob, rent,roi * 100))\n",
        "    end\n",
        "    df\n",
        "end\n",
        "\n",
        "summary()"
      ],
      "outputs": [
        {
          "output_type": "display_data",
          "data": {
            "text/html": "<div><div style = \"float: left;\"><span>40×4 DataFrame</span></div><div style = \"float: right;\"><span style = \"font-style: italic;\">15 rows omitted</span></div><div style = \"clear: both;\"></div></div><div class = \"data-frame\" style = \"overflow-x: scroll;\"><table class = \"data-frame\" style = \"margin-bottom: 6px;\"><thead><tr class = \"header\"><th class = \"rowNumber\" style = \"font-weight: bold; text-align: right;\">Row</th><th style = \"text-align: left;\">Space</th><th style = \"text-align: left;\">Prob</th><th style = \"text-align: left;\">Rent</th><th style = \"text-align: left;\">ROI</th></tr><tr class = \"subheader headerLastRow\"><th class = \"rowNumber\" style = \"font-weight: bold; text-align: right;\"></th><th title = \"String\" style = \"text-align: left;\">String</th><th title = \"Float64\" style = \"text-align: left;\">Float64</th><th title = \"Float64\" style = \"text-align: left;\">Float64</th><th title = \"Float64\" style = \"text-align: left;\">Float64</th></tr></thead><tbody><tr><td class = \"rowNumber\" style = \"font-weight: bold; text-align: right;\">1</td><td style = \"text-align: left;\">Go</td><td style = \"text-align: right;\">0.0271852</td><td style = \"text-align: right;\">0.0</td><td style = \"text-align: right;\">0.0</td></tr><tr><td class = \"rowNumber\" style = \"font-weight: bold; text-align: right;\">2</td><td style = \"text-align: left;\">Mediterranean Avenue</td><td style = \"text-align: right;\">0.0225956</td><td style = \"text-align: right;\">0.0451912</td><td style = \"text-align: right;\">0.0753186</td></tr><tr><td class = \"rowNumber\" style = \"font-weight: bold; text-align: right;\">3</td><td style = \"text-align: left;\">Community Chest</td><td style = \"text-align: right;\">0.0200889</td><td style = \"text-align: right;\">0.0</td><td style = \"text-align: right;\">0.0</td></tr><tr><td class = \"rowNumber\" style = \"font-weight: bold; text-align: right;\">4</td><td style = \"text-align: left;\">Baltic Avenue</td><td style = \"text-align: right;\">0.0233771</td><td style = \"text-align: right;\">0.0935084</td><td style = \"text-align: right;\">0.155847</td></tr><tr><td class = \"rowNumber\" style = \"font-weight: bold; text-align: right;\">5</td><td style = \"text-align: left;\">Income Tax</td><td style = \"text-align: right;\">0.0230848</td><td style = \"text-align: right;\">0.0</td><td style = \"text-align: right;\">0.0</td></tr><tr><td class = \"rowNumber\" style = \"font-weight: bold; text-align: right;\">6</td><td style = \"text-align: left;\">Reading Railroad</td><td style = \"text-align: right;\">0.0229786</td><td style = \"text-align: right;\">0.574466</td><td style = \"text-align: right;\">0.287233</td></tr><tr><td class = \"rowNumber\" style = \"font-weight: bold; text-align: right;\">7</td><td style = \"text-align: left;\">Oriental Avenue</td><td style = \"text-align: right;\">0.0230121</td><td style = \"text-align: right;\">0.138073</td><td style = \"text-align: right;\">0.138073</td></tr><tr><td class = \"rowNumber\" style = \"font-weight: bold; text-align: right;\">8</td><td style = \"text-align: left;\">Chance</td><td style = \"text-align: right;\">0.0230639</td><td style = \"text-align: right;\">0.0</td><td style = \"text-align: right;\">0.0</td></tr><tr><td class = \"rowNumber\" style = \"font-weight: bold; text-align: right;\">9</td><td style = \"text-align: left;\">Vermont Avenue</td><td style = \"text-align: right;\">0.0229298</td><td style = \"text-align: right;\">0.137579</td><td style = \"text-align: right;\">0.137579</td></tr><tr><td class = \"rowNumber\" style = \"font-weight: bold; text-align: right;\">10</td><td style = \"text-align: left;\">Connecticut Avenue</td><td style = \"text-align: right;\">0.0228418</td><td style = \"text-align: right;\">0.182735</td><td style = \"text-align: right;\">0.152279</td></tr><tr><td class = \"rowNumber\" style = \"font-weight: bold; text-align: right;\">11</td><td style = \"text-align: left;\">Jail</td><td style = \"text-align: right;\">0.0546613</td><td style = \"text-align: right;\">0.0</td><td style = \"text-align: right;\">0.0</td></tr><tr><td class = \"rowNumber\" style = \"font-weight: bold; text-align: right;\">12</td><td style = \"text-align: left;\">St. Charles Place</td><td style = \"text-align: right;\">0.0229172</td><td style = \"text-align: right;\">0.229172</td><td style = \"text-align: right;\">0.163694</td></tr><tr><td class = \"rowNumber\" style = \"font-weight: bold; text-align: right;\">13</td><td style = \"text-align: left;\">Electric Company</td><td style = \"text-align: right;\">0.0237749</td><td style = \"text-align: right;\">0.570598</td><td style = \"text-align: right;\">0.380399</td></tr><tr><td style = \"text-align: right;\">&vellip;</td><td style = \"text-align: right;\">&vellip;</td><td style = \"text-align: right;\">&vellip;</td><td style = \"text-align: right;\">&vellip;</td><td style = \"text-align: right;\">&vellip;</td></tr><tr><td class = \"rowNumber\" style = \"font-weight: bold; text-align: right;\">29</td><td style = \"text-align: left;\">Water Works</td><td style = \"text-align: right;\">0.0270305</td><td style = \"text-align: right;\">0.648731</td><td style = \"text-align: right;\">0.432487</td></tr><tr><td class = \"rowNumber\" style = \"font-weight: bold; text-align: right;\">30</td><td style = \"text-align: left;\">Marvin Gardens</td><td style = \"text-align: right;\">0.0269677</td><td style = \"text-align: right;\">0.647225</td><td style = \"text-align: right;\">0.231152</td></tr><tr><td class = \"rowNumber\" style = \"font-weight: bold; text-align: right;\">31</td><td style = \"text-align: left;\">Go To Jail</td><td style = \"text-align: right;\">0.0</td><td style = \"text-align: right;\">0.0</td><td style = \"text-align: right;\">0.0</td></tr><tr><td class = \"rowNumber\" style = \"font-weight: bold; text-align: right;\">32</td><td style = \"text-align: left;\">Pacific Avenue</td><td style = \"text-align: right;\">0.0268854</td><td style = \"text-align: right;\">0.699021</td><td style = \"text-align: right;\">0.233007</td></tr><tr><td class = \"rowNumber\" style = \"font-weight: bold; text-align: right;\">33</td><td style = \"text-align: left;\">North Carolina Avenue</td><td style = \"text-align: right;\">0.0261376</td><td style = \"text-align: right;\">0.679579</td><td style = \"text-align: right;\">0.226526</td></tr><tr><td class = \"rowNumber\" style = \"font-weight: bold; text-align: right;\">34</td><td style = \"text-align: left;\">Community Chest</td><td style = \"text-align: right;\">0.022234</td><td style = \"text-align: right;\">0.0</td><td style = \"text-align: right;\">0.0</td></tr><tr><td class = \"rowNumber\" style = \"font-weight: bold; text-align: right;\">35</td><td style = \"text-align: left;\">Pennsylvania Avenue</td><td style = \"text-align: right;\">0.0246662</td><td style = \"text-align: right;\">0.690654</td><td style = \"text-align: right;\">0.215829</td></tr><tr><td class = \"rowNumber\" style = \"font-weight: bold; text-align: right;\">36</td><td style = \"text-align: left;\">Short Line</td><td style = \"text-align: right;\">0.023788</td><td style = \"text-align: right;\">0.5947</td><td style = \"text-align: right;\">0.29735</td></tr><tr><td class = \"rowNumber\" style = \"font-weight: bold; text-align: right;\">37</td><td style = \"text-align: left;\">Chance</td><td style = \"text-align: right;\">0.0228367</td><td style = \"text-align: right;\">0.0</td><td style = \"text-align: right;\">0.0</td></tr><tr><td class = \"rowNumber\" style = \"font-weight: bold; text-align: right;\">38</td><td style = \"text-align: left;\">Park Place</td><td style = \"text-align: right;\">0.02178</td><td style = \"text-align: right;\">0.7623</td><td style = \"text-align: right;\">0.2178</td></tr><tr><td class = \"rowNumber\" style = \"font-weight: bold; text-align: right;\">39</td><td style = \"text-align: left;\">Luxury Tax</td><td style = \"text-align: right;\">0.0220982</td><td style = \"text-align: right;\">0.0</td><td style = \"text-align: right;\">0.0</td></tr><tr><td class = \"rowNumber\" style = \"font-weight: bold; text-align: right;\">40</td><td style = \"text-align: left;\">Boardwalk</td><td style = \"text-align: right;\">0.0222763</td><td style = \"text-align: right;\">1.11382</td><td style = \"text-align: right;\">0.278454</td></tr></tbody></table></div>",
            "text/latex": "\\begin{tabular}{r|cccc}\n\t& Space & Prob & Rent & ROI\\\\\n\t\\hline\n\t& String & Float64 & Float64 & Float64\\\\\n\t\\hline\n\t1 & Go & 0.0271852 & 0.0 & 0.0 \\\\\n\t2 & Mediterranean Avenue & 0.0225956 & 0.0451912 & 0.0753186 \\\\\n\t3 & Community Chest & 0.0200889 & 0.0 & 0.0 \\\\\n\t4 & Baltic Avenue & 0.0233771 & 0.0935084 & 0.155847 \\\\\n\t5 & Income Tax & 0.0230848 & 0.0 & 0.0 \\\\\n\t6 & Reading Railroad & 0.0229786 & 0.574466 & 0.287233 \\\\\n\t7 & Oriental Avenue & 0.0230121 & 0.138073 & 0.138073 \\\\\n\t8 & Chance & 0.0230639 & 0.0 & 0.0 \\\\\n\t9 & Vermont Avenue & 0.0229298 & 0.137579 & 0.137579 \\\\\n\t10 & Connecticut Avenue & 0.0228418 & 0.182735 & 0.152279 \\\\\n\t11 & Jail & 0.0546613 & 0.0 & 0.0 \\\\\n\t12 & St. Charles Place & 0.0229172 & 0.229172 & 0.163694 \\\\\n\t13 & Electric Company & 0.0237749 & 0.570598 & 0.380399 \\\\\n\t14 & States Avenue & 0.0246115 & 0.246115 & 0.175796 \\\\\n\t15 & Virginia Avenue & 0.0255852 & 0.307022 & 0.191889 \\\\\n\t16 & Pennsylvania Railroad & 0.0265888 & 0.66472 & 0.33236 \\\\\n\t17 & St. James Place & 0.0275873 & 0.386222 & 0.214568 \\\\\n\t18 & Community Chest & 0.0251166 & 0.0 & 0.0 \\\\\n\t19 & Tennessee Avenue & 0.028193 & 0.394702 & 0.219279 \\\\\n\t20 & New York Avenue & 0.027744 & 0.443905 & 0.221952 \\\\\n\t21 & Free Parking & 0.0273966 & 0.0 & 0.0 \\\\\n\t22 & Kentucky Avenue & 0.0270933 & 0.487679 & 0.221672 \\\\\n\t23 & Chance & 0.0267664 & 0.0 & 0.0 \\\\\n\t24 & Indiana Avenue & 0.0263495 & 0.474292 & 0.215587 \\\\\n\t$\\dots$ & $\\dots$ & $\\dots$ & $\\dots$ & $\\dots$ \\\\\n\\end{tabular}\n",
            "text/plain": "\u001b[1m40×4 DataFrame\u001b[0m\n\u001b[1m Row \u001b[0m│\u001b[1m Space                 \u001b[0m\u001b[1m Prob      \u001b[0m\u001b[1m Rent      \u001b[0m\u001b[1m ROI       \u001b[0m\n     │\u001b[90m String                \u001b[0m\u001b[90m Float64   \u001b[0m\u001b[90m Float64   \u001b[0m\u001b[90m Float64   \u001b[0m\n─────┼────────────────────────────────────────────────────────\n   1 │ Go                     0.0271852  0.0        0.0\n   2 │ Mediterranean Avenue   0.0225956  0.0451912  0.0753186\n   3 │ Community Chest        0.0200889  0.0        0.0\n   4 │ Baltic Avenue          0.0233771  0.0935084  0.155847\n   5 │ Income Tax             0.0230848  0.0        0.0\n   6 │ Reading Railroad       0.0229786  0.574466   0.287233\n   7 │ Oriental Avenue        0.0230121  0.138073   0.138073\n   8 │ Chance                 0.0230639  0.0        0.0\n  ⋮  │           ⋮                ⋮          ⋮          ⋮\n  34 │ Community Chest        0.022234   0.0        0.0\n  35 │ Pennsylvania Avenue    0.0246662  0.690654   0.215829\n  36 │ Short Line             0.023788   0.5947     0.29735\n  37 │ Chance                 0.0228367  0.0        0.0\n  38 │ Park Place             0.02178    0.7623     0.2178\n  39 │ Luxury Tax             0.0220982  0.0        0.0\n  40 │ Boardwalk              0.0222763  1.11382    0.278454\n\u001b[36m                                               25 rows omitted\u001b[0m"
          },
          "metadata": {}
        }
      ],
      "execution_count": 18,
      "metadata": {}
    },
    {
      "attachments": {},
      "cell_type": "markdown",
      "source": [
        " Monopoly as a Markov Decision Process\n",
        "Finally, we will define Monopoly as a Markov Decision Process (MDP). We allow players to take actions, and as a result, we could evaluate different strategies.\n",
        "\n",
        "We will discuss three possible strategies:\n",
        "\n",
        "buy a property randomly (player 1)\n",
        "always buy a property (player 2)\n",
        "buy a property if its ROI exceeds threshold \n",
        " (player 3)"
      ],
      "metadata": {}
    },
    {
      "cell_type": "code",
      "source": [
        "\n",
        "#Monopoly simulaton with simple strategies\n",
        "\n",
        "function simulate_game(τ, n = 40, Spaces = Spaces)\n",
        "    roi = summary()[!,:ROI]\n",
        "    owned = zeros(Int,n)\n",
        "    budget = 1500.0 * ones(3)\n",
        "    position = ones(Int,3)\n",
        "    seq = shuffle(1:3)\n",
        "    while sum(budget.> 0.0) > 1\n",
        "        for player in seq\n",
        "            budget[player] ≤ 0.0 && continue\n",
        "            roll = rand(2:12)\n",
        "            position[player] =  mod(position[player] + roll - 1,n) + 1\n",
        "            if position[player] == 31\n",
        "                position[player] = 11\n",
        "            elseif in(position[player],(3,18,34)) #community chest\n",
        "                if rand() ≤ 2.0/16.0 \n",
        "                    if rand() ≤ 0.5 #advance to go\n",
        "                        position[player] = 1\n",
        "                    else #go to jail\n",
        "                        position[player] = 11\n",
        "                    end\n",
        "                end\n",
        "            else\n",
        "                owner = owned[position[player]] \n",
        "                (Spaces[position[player]][3] == Inf || owner == player) && continue\n",
        "                if owner == 0\n",
        "                    price = Spaces[position[player]][3]\n",
        "                    price ≥ budget[player] && continue\n",
        "                    #decision time\n",
        "                    if player == 1  &&  rand() ≤ 0.5 \n",
        "                        #random strategy (player 1)\n",
        "                        owned[position[player]] = player\n",
        "                        budget[player] -= price\n",
        "                    elseif player == 2 \n",
        "                        #always buy (player 2)\n",
        "                        owned[position[player]] = player\n",
        "                        budget[player] -= price\n",
        "                    elseif player == 3 && roi[position[player]] > τ \n",
        "                        #buy only the best (player 3)\n",
        "                        owned[position[player]] = player\n",
        "                        budget[player] -= price\n",
        "                    end  \n",
        "                else\n",
        "                    rent = Spaces[position[player]][2]\n",
        "                    budget[player] -= rent\n",
        "                    budget[owner] += rent\n",
        "                end\n",
        "                budget[player] ≤ 0.0 && replace!(owned, player => 0)\n",
        "            end\n",
        "        end\n",
        "    end\n",
        "    return budget\n",
        "end"
      ],
      "outputs": [
        {
          "output_type": "display_data",
          "data": {
            "text/plain": "simulate_game (generic function with 3 methods)"
          },
          "metadata": {}
        }
      ],
      "execution_count": 20,
      "metadata": {}
    },
    {
      "cell_type": "code",
      "source": [
        "\n",
        "simulate_game(0.15)"
      ],
      "outputs": [
        {
          "output_type": "display_data",
          "data": {
            "text/plain": "3-element Vector{Float64}:\n  -7.0\n -10.0\n 147.0"
          },
          "metadata": {}
        }
      ],
      "execution_count": 21,
      "metadata": {}
    },
    {
      "cell_type": "code",
      "source": [
        "n = 10000\n",
        "τ₁ = 0.15\n",
        "res = zeros(3)\n",
        "for k = 1:n\n",
        "   res .+= (simulate_game(τ₁) .> 0.0)\n",
        "end\n",
        "res ./ n"
      ],
      "outputs": [
        {
          "output_type": "display_data",
          "data": {
            "text/plain": "3-element Vector{Float64}:\n 0.3808\n 0.2485\n 0.3707"
          },
          "metadata": {}
        }
      ],
      "execution_count": 22,
      "metadata": {}
    },
    {
      "attachments": {},
      "cell_type": "markdown",
      "source": [
        "ZADANIE I SERIA I"
      ],
      "metadata": {}
    },
    {
      "attachments": {},
      "cell_type": "markdown",
      "source": [
        "Na podstawie prezentowanych wyżej przykładach gry w Monopoly znajdź optymalną wartość granicznego ROI: $\\tau^*$, którą powinien kierować się gracz trzeci. Rozpatrz przy tym:\n",
        "\n",
        "Odsetek gier w których wygrywa.\n",
        "Przecietny zysk jaki dostaje na koniec gry.\n",
        "Czy obie wartości są takie same? Odpowiedź uzasadnij"
      ],
      "metadata": {}
    },
    {
      "cell_type": "code",
      "source": [
        "function calculate_win_rate(tau, num_games)\n",
        "    num_wins = 0\n",
        "    for i in 1:num_games\n",
        "        result = simulate_game(tau)\n",
        "        if result[3] > 0   # zakładamy, że gracz 3 jest graczem, którego strategię optymalizujemy\n",
        "            num_wins += 1\n",
        "        end\n",
        "    end\n",
        "    return num_wins / num_games\n",
        "end\n"
      ],
      "outputs": [
        {
          "output_type": "display_data",
          "data": {
            "text/plain": "calculate_win_rate (generic function with 1 method)"
          },
          "metadata": {}
        }
      ],
      "execution_count": 28,
      "metadata": {}
    },
    {
      "cell_type": "code",
      "source": [
        "# Zdefiniuj funkcję, która mierzy wynik dla danego tau\n",
        "function evaluate_tau(tau)\n",
        "    num_games = 1000\n",
        "    win_rate = calculate_win_rate(tau, num_games)\n",
        "    return -win_rate  # Optim szuka minimum, więc zwracamy negatywne wartości\n",
        "end\n",
        "\n",
        "# Użyj Optim.optimize do znalezienia optymalnego tau\n",
        "result = optimize(evaluate_tau, 0.0, 1.0)  # Szukaj optymalnego tau między 0.0 a 1.0\n",
        "\n",
        "# Pobierz optymalne tau\n",
        "optimal_tau = Optim.minimizer(result)"
      ],
      "outputs": [
        {
          "output_type": "display_data",
          "data": {
            "text/plain": "0.25243799540065104"
          },
          "metadata": {}
        }
      ],
      "execution_count": 29,
      "metadata": {}
    },
    {
      "attachments": {},
      "cell_type": "markdown",
      "source": [
        "Wynik 0.25196247832810914 oznacza, że optymalna wartość granicznego zwrotu z inwestycji (ROI), czyli $\\tau^*$, dla trzeciego gracza w grze Monopoly wynosi około 0.25 (czyli 25%) według strategii zaimplementowanej w kodzie.\n",
        "\n",
        "Zatem, według tej symulacji, trzeci gracz powinien kupować właściwości, jeśli ich zwrot z inwestycji przekracza 25%. To oznacza, że jeśli gracz spodziewa się uzyskać zwrot powyżej 25% z inwestycji w daną nieruchomość, powinien ją kupić.  jest to wynik symulacji i faktyczne optymalne zachowanie może się różnić w zależności od wielu czynników, takich jak strategie innych graczy czy szczegółowe zasady gry."
      ],
      "metadata": {}
    },
    {
      "cell_type": "code",
      "source": [
        "function calculate_average_profit(τ)\n",
        "    total_profit = 0.0\n",
        "    num_trials = 1000\n",
        "\n",
        "    for _ in 1:num_trials\n",
        "        # Symuluj grę i oblicz zysk gracza 3\n",
        "        game_result = simulate_game(τ)\n",
        "        profit = game_result[3]  # Zmienione na indeks 3\n",
        "\n",
        "        total_profit += profit\n",
        "    end\n",
        "\n",
        "    return total_profit / num_trials\n",
        "end\n",
        "\n"
      ],
      "outputs": [
        {
          "output_type": "display_data",
          "data": {
            "text/plain": "calculate_average_profit (generic function with 1 method)"
          },
          "metadata": {}
        }
      ],
      "execution_count": 36,
      "metadata": {}
    },
    {
      "cell_type": "code",
      "source": [
        "τ = 0.5  # Przykładowe τ\n",
        "game_result = simulate_game(τ)\n",
        "println(game_result)\n"
      ],
      "outputs": [
        {
          "output_type": "stream",
          "name": "stdout",
          "text": "[0.0, 260.0, 0.0]\n"
        }
      ],
      "execution_count": 37,
      "metadata": {}
    },
    {
      "cell_type": "code",
      "source": [
        "\n",
        "function negative_average_profit(τ)\n",
        "    # Funkcja optimize minimalizuje wartość, więc aby znaleźć maksimum, musimy zwrócić wartość negatywną\n",
        "    return -calculate_average_profit(τ)\n",
        "end\n",
        "\n",
        "res = optimize(negative_average_profit, 0.0, 1.0)\n",
        "optimal_τ = Optim.minimizer(res)\n",
        "\n",
        "println(\"Optymalne τ, które maksymalizuje przeciętny zysk gracza 3: $optimal_τ\")\n"
      ],
      "outputs": [
        {
          "output_type": "stream",
          "name": "stdout",
          "text": "Optymalne τ, które maksymalizuje przeciętny zysk gracza 3: 0.23606798706072618\n"
        }
      ],
      "execution_count": 38,
      "metadata": {}
    },
    {
      "cell_type": "code",
      "source": [
        "negative_average_profit(τ) = -calculate_average_profit(τ)\n",
        "result = optimize(negative_average_profit, 0.0, 1.0)\n",
        "optimal_τ = result.minimizer\n",
        "optimal_profit = -result.minimum\n",
        "println(\"przy optymalnej strategii (określonej przez optymalne τ $optimal_τ) przeciętny zysk dla gracza 3 wynosi około : $optimal_profit\")"
      ],
      "outputs": [
        {
          "output_type": "stream",
          "name": "stdout",
          "text": "przy optymalnej strategii (określonej przez optymalne τ 0.23442863235636263) przeciętny zysk dla gracza 3 wynosi około : 311.285\n"
        }
      ],
      "execution_count": 40,
      "metadata": {}
    },
    {
      "attachments": {},
      "cell_type": "markdown",
      "source": [
        "Wartości odsetka gier, w których gracz wygrywa, i przeciętnego zysku, który gracz otrzymuje na koniec gry, nie są takie same i nie powinny być takie same.\n",
        "\n",
        "Odsetek gier, w których gracz wygrywa, to wartość wyrażona w procentach (od 0 do 100), która pokazuje, jak często gracz wygrywa w porównaniu do liczby gier, które gra. To jest miarą częstotliwości wygranej.\n",
        "\n",
        "Przeciwnie, przeciętny zysk, który gracz otrzymuje na koniec gry, to kwota (w jakiejkolwiek jednostce, np. punkty, dolary, itp.), którą gracz na ogół wygrywa na końcu gry. Ten zysk może wynikać z wielu różnych czynników, takich jak strategia gry, losowość i umiejętności gracza.\n",
        "\n",
        "Te dwie wartości są zatem odmienne i mierzą różne aspekty gry: częstotliwość wygranej i kwotę wygranej. W zależności od gry i strategii gracza, mogą one być powiązane (na przykład, wygrywanie częściej może prowadzić do wyższego przeciętnego zysku), ale nie są one bezpośrednio równoznaczne."
      ],
      "metadata": {}
    }
  ],
  "metadata": {
    "kernelspec": {
      "display_name": "Julia 1.8.5",
      "language": "julia",
      "name": "julia-1.8"
    },
    "language_info": {
      "file_extension": ".jl",
      "mimetype": "application/julia",
      "name": "julia",
      "version": "1.8.5"
    },
    "orig_nbformat": 4,
    "nteract": {
      "version": "nteract-front-end@1.0.0"
    }
  },
  "nbformat": 4,
  "nbformat_minor": 2
}